{
 "cells": [
  {
   "cell_type": "markdown",
   "id": "de6c5a9ff9bdd3f1",
   "metadata": {},
   "source": [
    "# Model"
   ]
  },
  {
   "cell_type": "markdown",
   "id": "8c85146562732728",
   "metadata": {},
   "source": [
    "## Libs"
   ]
  },
  {
   "cell_type": "code",
   "execution_count": 66,
   "id": "c80fde14d103b06b",
   "metadata": {},
   "outputs": [],
   "source": [
    "from dateutil.relativedelta import relativedelta\n",
    "import os\n",
    "from sqlalchemy import create_engine, inspect\n",
    "import pandas as pd\n",
    "import matplotlib.pyplot as plt"
   ]
  },
  {
   "cell_type": "markdown",
   "id": "6bedd6d0046807f4",
   "metadata": {},
   "source": [
    "## Data"
   ]
  },
  {
   "cell_type": "code",
   "execution_count": 40,
   "id": "a079de51",
   "metadata": {},
   "outputs": [],
   "source": [
    "def calcular_meses(periodo):\n",
    "    try:\n",
    "        if pd.isna(periodo):\n",
    "            return None\n",
    "\n",
    "        # Remove quebras de linha e espaços extras\n",
    "        periodo = periodo.replace(\"\\n\", \"\").strip()\n",
    "\n",
    "        # Padroniza separadores estranhos para hífen simples\n",
    "        periodo = periodo.replace(\"–\", \"-\").replace(\"—\", \"-\")\n",
    "\n",
    "        partes = periodo.split(\"-\")\n",
    "        if len(partes) != 2:\n",
    "            return None\n",
    "\n",
    "        inicio_str = partes[0].strip()\n",
    "        fim_str = partes[1].strip()\n",
    "\n",
    "        # Converte strings para datetime\n",
    "        inicio = pd.to_datetime(inicio_str, format=\"%m/%Y\", errors='coerce')\n",
    "        fim = pd.to_datetime(fim_str, format=\"%m/%Y\", errors='coerce')\n",
    "\n",
    "        if pd.isnull(inicio) or pd.isnull(fim):\n",
    "            return None\n",
    "\n",
    "        # Calcula a diferença em meses e transforma em valor absoluto\n",
    "        diff = relativedelta(fim, inicio)\n",
    "        meses = diff.years * 12 + diff.months + 1\n",
    "\n",
    "        return abs(meses)\n",
    "    \n",
    "    except Exception as e:\n",
    "        print(f\"Erro ao processar período '{periodo}': {e}\")\n",
    "        return None"
   ]
  },
  {
   "cell_type": "code",
   "execution_count": null,
   "id": "59e5be54",
   "metadata": {},
   "outputs": [
    {
     "name": "stdout",
     "output_type": "stream",
     "text": [
      "Tabelas disponíveis: ['basic_info', 'cv_content', 'education_languages', 'personal_info', 'professional_experience', 'professional_info']\n"
     ]
    }
   ],
   "source": [
    "caminho_db = os.path.abspath(\"../data/sql/applicants.db\")\n",
    "\n",
    "engine = create_engine(f\"sqlite:///{caminho_db}\")\n",
    "inspector = inspect(engine)\n",
    "print(\"Tabelas disponíveis:\", inspector.get_table_names())\n",
    "\n"
   ]
  },
  {
   "cell_type": "code",
   "execution_count": 15,
   "id": "afcbd689",
   "metadata": {},
   "outputs": [],
   "source": [
    "query = \"SELECT * FROM basic_info\"\n",
    "df_basic_info = pd.read_sql(query, engine)\n",
    "query = \"SELECT * FROM cv_content\"\n",
    "df_cv_content = pd.read_sql(query, engine)\n",
    "query = \"SELECT * FROM education_languages\"\n",
    "df_education_languages = pd.read_sql(query, engine)\n",
    "query = \"SELECT * FROM personal_info\"\n",
    "df_personal_info = pd.read_sql(query, engine)\n",
    "query = \"SELECT * FROM professional_experience\"\n",
    "df_professional_experience = pd.read_sql(query, engine)\n",
    "query = \"SELECT * FROM professional_info\"\n",
    "df_professional_info = pd.read_sql(query, engine)"
   ]
  },
  {
   "cell_type": "code",
   "execution_count": 84,
   "id": "5b561f1c",
   "metadata": {},
   "outputs": [
    {
     "data": {
      "text/html": [
       "<div>\n",
       "<style scoped>\n",
       "    .dataframe tbody tr th:only-of-type {\n",
       "        vertical-align: middle;\n",
       "    }\n",
       "\n",
       "    .dataframe tbody tr th {\n",
       "        vertical-align: top;\n",
       "    }\n",
       "\n",
       "    .dataframe thead th {\n",
       "        text-align: right;\n",
       "    }\n",
       "</style>\n",
       "<table border=\"1\" class=\"dataframe\">\n",
       "  <thead>\n",
       "    <tr style=\"text-align: right;\">\n",
       "      <th></th>\n",
       "      <th>codigo_profissional</th>\n",
       "      <th>titulo_profissional</th>\n",
       "      <th>area_atuacao</th>\n",
       "      <th>conhecimentos_tecnicos</th>\n",
       "      <th>certificacoes</th>\n",
       "      <th>outras_certificacoes</th>\n",
       "      <th>remuneracao</th>\n",
       "      <th>nivel_profissional</th>\n",
       "    </tr>\n",
       "  </thead>\n",
       "  <tbody>\n",
       "    <tr>\n",
       "      <th>0</th>\n",
       "      <td>31000</td>\n",
       "      <td></td>\n",
       "      <td></td>\n",
       "      <td></td>\n",
       "      <td></td>\n",
       "      <td></td>\n",
       "      <td></td>\n",
       "      <td></td>\n",
       "    </tr>\n",
       "    <tr>\n",
       "      <th>1</th>\n",
       "      <td>31001</td>\n",
       "      <td>Analista Administrativo</td>\n",
       "      <td>Administrativa</td>\n",
       "      <td></td>\n",
       "      <td></td>\n",
       "      <td></td>\n",
       "      <td>1900</td>\n",
       "      <td></td>\n",
       "    </tr>\n",
       "    <tr>\n",
       "      <th>2</th>\n",
       "      <td>31002</td>\n",
       "      <td>Administrativo | Financeiro</td>\n",
       "      <td>Administrativa</td>\n",
       "      <td></td>\n",
       "      <td>MS [77-418] MOS: Microsoft Office Word 2013, M...</td>\n",
       "      <td></td>\n",
       "      <td>2.500,00</td>\n",
       "      <td></td>\n",
       "    </tr>\n",
       "    <tr>\n",
       "      <th>3</th>\n",
       "      <td>31003</td>\n",
       "      <td>Área administrativa</td>\n",
       "      <td>Administrativa</td>\n",
       "      <td></td>\n",
       "      <td></td>\n",
       "      <td></td>\n",
       "      <td>1100,00</td>\n",
       "      <td></td>\n",
       "    </tr>\n",
       "    <tr>\n",
       "      <th>4</th>\n",
       "      <td>31004</td>\n",
       "      <td></td>\n",
       "      <td></td>\n",
       "      <td></td>\n",
       "      <td></td>\n",
       "      <td></td>\n",
       "      <td></td>\n",
       "      <td></td>\n",
       "    </tr>\n",
       "  </tbody>\n",
       "</table>\n",
       "</div>"
      ],
      "text/plain": [
       "  codigo_profissional          titulo_profissional    area_atuacao  \\\n",
       "0               31000                                                \n",
       "1               31001      Analista Administrativo  Administrativa   \n",
       "2               31002  Administrativo | Financeiro  Administrativa   \n",
       "3               31003          Área administrativa  Administrativa   \n",
       "4               31004                                                \n",
       "\n",
       "  conhecimentos_tecnicos                                      certificacoes  \\\n",
       "0                                                                             \n",
       "1                                                                             \n",
       "2                         MS [77-418] MOS: Microsoft Office Word 2013, M...   \n",
       "3                                                                             \n",
       "4                                                                             \n",
       "\n",
       "  outras_certificacoes remuneracao nivel_profissional  \n",
       "0                                                      \n",
       "1                             1900                     \n",
       "2                         2.500,00                     \n",
       "3                          1100,00                     \n",
       "4                                                      "
      ]
     },
     "execution_count": 84,
     "metadata": {},
     "output_type": "execute_result"
    }
   ],
   "source": [
    "#df_basic_info.head()\n",
    "#df_cv_content.head()\n",
    "#df_education_languages.head()\n",
    "#df_personal_info.head()\n",
    "#df_professional_experience.head()\n",
    "df_professional_info.head()"
   ]
  },
  {
   "cell_type": "code",
   "execution_count": 19,
   "id": "69f91870",
   "metadata": {},
   "outputs": [
    {
     "data": {
      "text/plain": [
       "sabendo_de_nos_por\n",
       "                            22106\n",
       "Outros                      15197\n",
       "Site_de_Empregos             1841\n",
       "Indeed                       1175\n",
       "Anúncio                       767\n",
       "Indicação_de_amigo            515\n",
       "Nosso_site                    432\n",
       "Indicação_de_colaborador      318\n",
       "Indicação_de_cliente          100\n",
       "Escolas/Faculdades             12\n",
       "Feira_de_RH                     9\n",
       "ONG/PAT/CAT                     4\n",
       "Evento_universitário            3\n",
       "Plaqueiro                       3\n",
       "Name: count, dtype: int64"
      ]
     },
     "execution_count": 19,
     "metadata": {},
     "output_type": "execute_result"
    }
   ],
   "source": [
    "# Investigando os dados\n",
    "df_basic_info.sabendo_de_nos_por = df_basic_info.sabendo_de_nos_por.fillna(\"Não informado\")\n",
    "df_basic_info.sabendo_de_nos_por = df_basic_info.sabendo_de_nos_por.str.replace(\" \", \"_\")\n",
    "df_basic_info.sabendo_de_nos_por.aggregate(lambda x: x.value_counts())\n"
   ]
  },
  {
   "cell_type": "code",
   "execution_count": 76,
   "id": "b99b2e8b",
   "metadata": {},
   "outputs": [
    {
     "data": {
      "text/plain": [
       "count    11730.000000\n",
       "mean        21.912276\n",
       "std         26.911156\n",
       "min          0.000000\n",
       "25%          7.000000\n",
       "50%         13.000000\n",
       "75%         26.000000\n",
       "max        400.000000\n",
       "Name: tempo_meses, dtype: float64"
      ]
     },
     "execution_count": 76,
     "metadata": {},
     "output_type": "execute_result"
    }
   ],
   "source": [
    "df_professional_experience['tempo_meses'] = df_professional_experience['periodo'].apply(calcular_meses).fillna(0).astype(int)\n",
    "df_professional_experience.loc[(df_professional_experience['tempo_meses'] > 400), 'tempo_meses'] = 0\n",
    "df_professional_experience['tempo_meses'].describe()"
   ]
  },
  {
   "cell_type": "code",
   "execution_count": 79,
   "id": "e98bacd3",
   "metadata": {},
   "outputs": [],
   "source": [
    "# Converte a coluna para datetime, com tratamento de erros\n",
    "df_personal_info['data_nascimento'] = pd.to_datetime(df_personal_info['data_nascimento'], format='%d/%m/%Y', errors='coerce')\n",
    "\n",
    "# Calcula a idade apenas para datas válidas\n",
    "hoje = pd.to_datetime(\"today\")\n",
    "df_personal_info['idade_anos'] = df_personal_info['data_nascimento'].apply(\n",
    "    lambda x: hoje.year - x.year if pd.notnull(x) else None\n",
    ")\n",
    "\n",
    "# Preenche valores nulos com 0 e transforma em int\n",
    "df_personal_info['idade_anos'] = df_personal_info['idade_anos'].fillna(0).astype(int)\n",
    "df_personal_info.loc[(df_personal_info['idade_anos'] > 100) | (df_personal_info['idade_anos'] < 18), 'idade_anos'] = 0\n"
   ]
  },
  {
   "cell_type": "code",
   "execution_count": 90,
   "id": "72b603b3",
   "metadata": {},
   "outputs": [
    {
     "data": {
      "text/plain": [
       "<Axes: title={'center': 'Distribuição de Idade dos Candidatos'}, xlabel='idade_anos'>"
      ]
     },
     "execution_count": 90,
     "metadata": {},
     "output_type": "execute_result"
    },
    {
     "data": {
      "image/png": "[encoded data removed]",
      "text/plain": [
       "<Figure size 1000x500 with 1 Axes>"
      ]
     },
     "metadata": {},
     "output_type": "display_data"
    }
   ],
   "source": [
    "#df_personal_info['idade_anos'].unique()\n",
    "df_personal_info['idade_anos'].value_counts().sort_index().plot(kind='bar', figsize=(10, 5), title=\"Distribuição de Idade dos Candidatos\")"
   ]
  },
  {
   "cell_type": "markdown",
   "id": "3e193a6f",
   "metadata": {},
   "source": [
    "#### Conclusões\n",
    "não utilizar idade, já que a maioria vai zerar,"
   ]
  },
  {
   "cell_type": "code",
   "execution_count": 82,
   "id": "5a57e3d9",
   "metadata": {},
   "outputs": [
    {
     "data": {
      "text/plain": [
       "count    42482.000000\n",
       "mean        10.925121\n",
       "std         20.032589\n",
       "min          0.000000\n",
       "25%          0.000000\n",
       "50%          0.000000\n",
       "75%          0.000000\n",
       "max         82.000000\n",
       "Name: idade_anos, dtype: float64"
      ]
     },
     "execution_count": 82,
     "metadata": {},
     "output_type": "execute_result"
    }
   ],
   "source": [
    "df_personal_info['idade_anos'].describe()"
   ]
  },
  {
   "cell_type": "markdown",
   "id": "fce6e0fe255c1ee3",
   "metadata": {},
   "source": [
    "## Data Pre Processor"
   ]
  },
  {
   "cell_type": "code",
   "execution_count": 97,
   "id": "50193999728dbc8a",
   "metadata": {},
   "outputs": [],
   "source": [
    "#Ajustando dados em apenas um Dataframe para aplicar ao modelo\n",
    "df_analise = df_basic_info[['codigo_profissional', 'nome', 'email', 'telefone']]\n",
    "df_education_languages_selected = df_education_languages[['codigo_profissional', 'nivel_academico', 'nivel_ingles','nivel_espanhol']]\n",
    "df_personal_info_selected = df_personal_info[['codigo_profissional', 'idade_anos', 'sexo', 'estado_civil']]\n",
    "df_professional_info_selected = df_professional_info[['codigo_profissional', 'remuneracao']]\n",
    "\n",
    "# Realizando os merges com as colunas selecionadas\n",
    "df_analise = df_analise.merge(df_education_languages_selected, on='codigo_profissional', how='left')\n",
    "df_analise = df_analise.merge(df_personal_info_selected, on='codigo_profissional', how='left')\n",
    "df_analise = df_analise.merge(df_professional_info_selected, on='codigo_profissional', how='left')"
   ]
  },
  {
   "cell_type": "code",
   "execution_count": 98,
   "id": "502d8bd7",
   "metadata": {},
   "outputs": [],
   "source": [
    "# Calcula a média de tempo_meses por codigo_profissional\n",
    "df_professional_experience_avg = df_professional_experience.groupby('codigo_profissional', as_index=False)['tempo_meses'].mean()\n",
    "\n",
    "# Renomeia a coluna para indicar que é a média\n",
    "df_professional_experience_avg.rename(columns={'tempo_meses': 'media_tempo_meses'}, inplace=True)\n",
    "\n",
    "# Realiza o merge com a média de tempo_meses\n",
    "df_analise = df_analise.merge(df_professional_experience_avg, on='codigo_profissional', how='left')"
   ]
  },
  {
   "cell_type": "code",
   "execution_count": 99,
   "id": "381733bb",
   "metadata": {},
   "outputs": [
    {
     "data": {
      "text/html": [
       "<div>\n",
       "<style scoped>\n",
       "    .dataframe tbody tr th:only-of-type {\n",
       "        vertical-align: middle;\n",
       "    }\n",
       "\n",
       "    .dataframe tbody tr th {\n",
       "        vertical-align: top;\n",
       "    }\n",
       "\n",
       "    .dataframe thead th {\n",
       "        text-align: right;\n",
       "    }\n",
       "</style>\n",
       "<table border=\"1\" class=\"dataframe\">\n",
       "  <thead>\n",
       "    <tr style=\"text-align: right;\">\n",
       "      <th></th>\n",
       "      <th>codigo_profissional</th>\n",
       "      <th>nome</th>\n",
       "      <th>email</th>\n",
       "      <th>telefone</th>\n",
       "      <th>nivel_academico</th>\n",
       "      <th>nivel_ingles</th>\n",
       "      <th>nivel_espanhol</th>\n",
       "      <th>idade_anos</th>\n",
       "      <th>sexo</th>\n",
       "      <th>estado_civil</th>\n",
       "      <th>remuneracao</th>\n",
       "      <th>media_tempo_meses</th>\n",
       "    </tr>\n",
       "  </thead>\n",
       "  <tbody>\n",
       "    <tr>\n",
       "      <th>0</th>\n",
       "      <td>31000</td>\n",
       "      <td>Carolina Aparecida</td>\n",
       "      <td>carolina_aparecida@gmail.com</td>\n",
       "      <td>(11) 97048-2708</td>\n",
       "      <td></td>\n",
       "      <td></td>\n",
       "      <td></td>\n",
       "      <td>0</td>\n",
       "      <td></td>\n",
       "      <td></td>\n",
       "      <td>NaN</td>\n",
       "      <td>14.0</td>\n",
       "    </tr>\n",
       "    <tr>\n",
       "      <th>1</th>\n",
       "      <td>31001</td>\n",
       "      <td>Eduardo Rios</td>\n",
       "      <td>eduardo_rios@hotmail.com</td>\n",
       "      <td>(11) 93723-4396</td>\n",
       "      <td>Ensino Superior Incompleto</td>\n",
       "      <td>Nenhum</td>\n",
       "      <td>Nenhum</td>\n",
       "      <td>31</td>\n",
       "      <td>Feminino</td>\n",
       "      <td>Solteiro</td>\n",
       "      <td>1900.0</td>\n",
       "      <td>NaN</td>\n",
       "    </tr>\n",
       "    <tr>\n",
       "      <th>2</th>\n",
       "      <td>31002</td>\n",
       "      <td>Pedro Henrique Carvalho</td>\n",
       "      <td>pedro_henrique_carvalho@gmail.com</td>\n",
       "      <td>(11) 92399-9824</td>\n",
       "      <td>Ensino Superior Completo</td>\n",
       "      <td>Intermediário</td>\n",
       "      <td>Básico</td>\n",
       "      <td>37</td>\n",
       "      <td>Feminino</td>\n",
       "      <td>Solteiro</td>\n",
       "      <td>2500.0</td>\n",
       "      <td>NaN</td>\n",
       "    </tr>\n",
       "    <tr>\n",
       "      <th>3</th>\n",
       "      <td>31003</td>\n",
       "      <td>Thiago Barbosa</td>\n",
       "      <td>thiago_barbosa@hotmail.com</td>\n",
       "      <td>(11) 98100-1727</td>\n",
       "      <td>Ensino Superior Incompleto</td>\n",
       "      <td>Nenhum</td>\n",
       "      <td>Nenhum</td>\n",
       "      <td>33</td>\n",
       "      <td>Feminino</td>\n",
       "      <td>Casado</td>\n",
       "      <td>1100.0</td>\n",
       "      <td>NaN</td>\n",
       "    </tr>\n",
       "    <tr>\n",
       "      <th>4</th>\n",
       "      <td>31004</td>\n",
       "      <td>Diogo das Neves</td>\n",
       "      <td>diogo_das_neves@hotmail.com</td>\n",
       "      <td>(11) 92517-2678</td>\n",
       "      <td></td>\n",
       "      <td></td>\n",
       "      <td></td>\n",
       "      <td>56</td>\n",
       "      <td></td>\n",
       "      <td></td>\n",
       "      <td>NaN</td>\n",
       "      <td>NaN</td>\n",
       "    </tr>\n",
       "    <tr>\n",
       "      <th>...</th>\n",
       "      <td>...</td>\n",
       "      <td>...</td>\n",
       "      <td>...</td>\n",
       "      <td>...</td>\n",
       "      <td>...</td>\n",
       "      <td>...</td>\n",
       "      <td>...</td>\n",
       "      <td>...</td>\n",
       "      <td>...</td>\n",
       "      <td>...</td>\n",
       "      <td>...</td>\n",
       "      <td>...</td>\n",
       "    </tr>\n",
       "    <tr>\n",
       "      <th>42477</th>\n",
       "      <td>5995</td>\n",
       "      <td>Gabrielly Novaes</td>\n",
       "      <td>gabrielly_novaes@gmail.com</td>\n",
       "      <td>(11) 92622-2088</td>\n",
       "      <td></td>\n",
       "      <td></td>\n",
       "      <td></td>\n",
       "      <td>0</td>\n",
       "      <td></td>\n",
       "      <td></td>\n",
       "      <td>0.0</td>\n",
       "      <td>NaN</td>\n",
       "    </tr>\n",
       "    <tr>\n",
       "      <th>42478</th>\n",
       "      <td>5996</td>\n",
       "      <td>Sr. Gabriel Rios</td>\n",
       "      <td>sr._gabriel_rios@gmail.com</td>\n",
       "      <td>(41) 93009-5141</td>\n",
       "      <td></td>\n",
       "      <td></td>\n",
       "      <td></td>\n",
       "      <td>0</td>\n",
       "      <td></td>\n",
       "      <td></td>\n",
       "      <td>0.0</td>\n",
       "      <td>NaN</td>\n",
       "    </tr>\n",
       "    <tr>\n",
       "      <th>42479</th>\n",
       "      <td>5997</td>\n",
       "      <td>Dr. Mathias da Cunha</td>\n",
       "      <td>dr._mathias_da_cunha@gmail.com</td>\n",
       "      <td>(11) 97837-3941</td>\n",
       "      <td></td>\n",
       "      <td></td>\n",
       "      <td></td>\n",
       "      <td>0</td>\n",
       "      <td></td>\n",
       "      <td></td>\n",
       "      <td>0.0</td>\n",
       "      <td>NaN</td>\n",
       "    </tr>\n",
       "    <tr>\n",
       "      <th>42480</th>\n",
       "      <td>5998</td>\n",
       "      <td>Bruna Vieira</td>\n",
       "      <td>bruna_vieira@hotmail.com</td>\n",
       "      <td>(61) 96806-8075</td>\n",
       "      <td></td>\n",
       "      <td></td>\n",
       "      <td></td>\n",
       "      <td>0</td>\n",
       "      <td></td>\n",
       "      <td></td>\n",
       "      <td>0.0</td>\n",
       "      <td>NaN</td>\n",
       "    </tr>\n",
       "    <tr>\n",
       "      <th>42481</th>\n",
       "      <td>5999</td>\n",
       "      <td>Heitor Mendonça</td>\n",
       "      <td>heitor_mendonça@hotmail.com</td>\n",
       "      <td>(15) 95637-4857</td>\n",
       "      <td></td>\n",
       "      <td></td>\n",
       "      <td></td>\n",
       "      <td>0</td>\n",
       "      <td></td>\n",
       "      <td></td>\n",
       "      <td>0.0</td>\n",
       "      <td>NaN</td>\n",
       "    </tr>\n",
       "  </tbody>\n",
       "</table>\n",
       "<p>42482 rows × 12 columns</p>\n",
       "</div>"
      ],
      "text/plain": [
       "      codigo_profissional                     nome  \\\n",
       "0                   31000       Carolina Aparecida   \n",
       "1                   31001             Eduardo Rios   \n",
       "2                   31002  Pedro Henrique Carvalho   \n",
       "3                   31003           Thiago Barbosa   \n",
       "4                   31004          Diogo das Neves   \n",
       "...                   ...                      ...   \n",
       "42477                5995         Gabrielly Novaes   \n",
       "42478                5996         Sr. Gabriel Rios   \n",
       "42479                5997     Dr. Mathias da Cunha   \n",
       "42480                5998             Bruna Vieira   \n",
       "42481                5999          Heitor Mendonça   \n",
       "\n",
       "                                   email         telefone  \\\n",
       "0           carolina_aparecida@gmail.com  (11) 97048-2708   \n",
       "1               eduardo_rios@hotmail.com  (11) 93723-4396   \n",
       "2      pedro_henrique_carvalho@gmail.com  (11) 92399-9824   \n",
       "3             thiago_barbosa@hotmail.com  (11) 98100-1727   \n",
       "4            diogo_das_neves@hotmail.com  (11) 92517-2678   \n",
       "...                                  ...              ...   \n",
       "42477         gabrielly_novaes@gmail.com  (11) 92622-2088   \n",
       "42478         sr._gabriel_rios@gmail.com  (41) 93009-5141   \n",
       "42479     dr._mathias_da_cunha@gmail.com  (11) 97837-3941   \n",
       "42480           bruna_vieira@hotmail.com  (61) 96806-8075   \n",
       "42481        heitor_mendonça@hotmail.com  (15) 95637-4857   \n",
       "\n",
       "                  nivel_academico   nivel_ingles nivel_espanhol  idade_anos  \\\n",
       "0                                                                         0   \n",
       "1      Ensino Superior Incompleto         Nenhum         Nenhum          31   \n",
       "2        Ensino Superior Completo  Intermediário         Básico          37   \n",
       "3      Ensino Superior Incompleto         Nenhum         Nenhum          33   \n",
       "4                                                                        56   \n",
       "...                           ...            ...            ...         ...   \n",
       "42477                                                                     0   \n",
       "42478                                                                     0   \n",
       "42479                                                                     0   \n",
       "42480                                                                     0   \n",
       "42481                                                                     0   \n",
       "\n",
       "           sexo estado_civil  remuneracao  media_tempo_meses  \n",
       "0                                     NaN               14.0  \n",
       "1      Feminino     Solteiro       1900.0                NaN  \n",
       "2      Feminino     Solteiro       2500.0                NaN  \n",
       "3      Feminino       Casado       1100.0                NaN  \n",
       "4                                     NaN                NaN  \n",
       "...         ...          ...          ...                ...  \n",
       "42477                                 0.0                NaN  \n",
       "42478                                 0.0                NaN  \n",
       "42479                                 0.0                NaN  \n",
       "42480                                 0.0                NaN  \n",
       "42481                                 0.0                NaN  \n",
       "\n",
       "[42482 rows x 12 columns]"
      ]
     },
     "execution_count": 99,
     "metadata": {},
     "output_type": "execute_result"
    }
   ],
   "source": [
    "df_analise\n"
   ]
  },
  {
   "cell_type": "code",
   "execution_count": 105,
   "id": "18ba212f",
   "metadata": {},
   "outputs": [
    {
     "name": "stdout",
     "output_type": "stream",
     "text": [
      "codigo_profissional        0\n",
      "nome                       0\n",
      "email                      0\n",
      "telefone                1456\n",
      "nivel_academico        34388\n",
      "nivel_ingles           35638\n",
      "nivel_espanhol         35795\n",
      "idade_anos             32119\n",
      "sexo                   35298\n",
      "estado_civil           35031\n",
      "remuneracao            37388\n",
      "media_tempo_meses      39771\n",
      "dtype: int64\n"
     ]
    }
   ],
   "source": [
    "# Contar valores nulos, vazios e zero\n",
    "null_or_empty_count = df_analise.isnull().sum() + (df_analise == \"\").sum() + (df_analise == 0).sum()\n",
    "\n",
    "# Exibir o resultado\n",
    "print(null_or_empty_count)"
   ]
  },
  {
   "cell_type": "code",
   "execution_count": null,
   "id": "00a50f97",
   "metadata": {},
   "outputs": [],
   "source": []
  },
  {
   "cell_type": "code",
   "execution_count": null,
   "id": "f4f963e7",
   "metadata": {
    "vscode": {
     "languageId": "ruby"
    }
   },
   "outputs": [
    {
     "name": "stdout",
     "output_type": "stream",
     "text": [
      "Modelo treinado com sucesso!\n"
     ]
    }
   ],
   "source": [
    "from sklearn.model_selection import train_test_split\n",
    "from sklearn.ensemble import RandomForestClassifier\n",
    "from sklearn.preprocessing import LabelEncoder\n",
    "\n",
    "# Preenchendo valores nulos\n",
    "df_analise['remuneracao'] = df_analise['remuneracao'].fillna(0)\n",
    "df_analise['media_tempo_meses'] = df_analise['media_tempo_meses'].fillna(0)\n",
    "df_analise['nivel_academico'] = df_analise['nivel_academico'].fillna('Desconhecido')\n",
    "df_analise['nivel_ingles'] = df_analise['nivel_ingles'].fillna('Desconhecido')\n",
    "df_analise['nivel_espanhol'] = df_analise['nivel_espanhol'].fillna('Desconhecido')\n",
    "df_analise['sexo'] = df_analise['sexo'].fillna('Desconhecido')\n",
    "df_analise['estado_civil'] = df_analise['estado_civil'].fillna('Desconhecido')\n",
    "\n",
    "# Codificando variáveis categóricas\n",
    "label_encoders = {}\n",
    "categorical_columns = ['nivel_academico', 'nivel_ingles', 'nivel_espanhol', 'sexo', 'estado_civil']\n",
    "\n",
    "for col in categorical_columns:\n",
    "    le = LabelEncoder()\n",
    "    df_analise[col] = le.fit_transform(df_analise[col])\n",
    "    label_encoders[col] = le\n",
    "\n",
    "# Definindo as features (X) e o target (y)\n",
    "X = df_analise.drop(columns=['codigo_profissional', 'nome', 'email', 'telefone'])\n",
    "y = (df_analise['remuneracao'] > 0).astype(int)  # Exemplo: target binário baseado em remuneração\n",
    "\n",
    "# Dividindo os dados em treino e teste\n",
    "X_train, X_test, y_train, y_test = train_test_split(X, y, test_size=0.2, random_state=42)\n",
    "\n",
    "# Treinando o modelo de Random Forest\n",
    "model = RandomForestClassifier(random_state=42)\n",
    "model.fit(X_train, y_train)\n"
   ]
  },
  {
   "cell_type": "code",
   "execution_count": 107,
   "id": "a386c480",
   "metadata": {},
   "outputs": [
    {
     "name": "stdout",
     "output_type": "stream",
     "text": [
      "Acurácia: 1.00\n",
      "Precisão: 1.00\n",
      "Recall: 1.00\n",
      "F1-Score: 1.00\n",
      "\n",
      "Matriz de Confusão:\n",
      "[[7476    0]\n",
      " [   0 1021]]\n",
      "\n",
      "Relatório de Classificação:\n",
      "              precision    recall  f1-score   support\n",
      "\n",
      "           0       1.00      1.00      1.00      7476\n",
      "           1       1.00      1.00      1.00      1021\n",
      "\n",
      "    accuracy                           1.00      8497\n",
      "   macro avg       1.00      1.00      1.00      8497\n",
      "weighted avg       1.00      1.00      1.00      8497\n",
      "\n"
     ]
    }
   ],
   "source": [
    "from sklearn.metrics import accuracy_score, precision_score, recall_score, f1_score, confusion_matrix, classification_report\n",
    "\n",
    "# Fazendo previsões no conjunto de teste\n",
    "y_pred = model.predict(X_test)\n",
    "\n",
    "# Calculando métricas de avaliação\n",
    "accuracy = accuracy_score(y_test, y_pred)\n",
    "precision = precision_score(y_test, y_pred)\n",
    "recall = recall_score(y_test, y_pred)\n",
    "f1 = f1_score(y_test, y_pred)\n",
    "\n",
    "# Exibindo os resultados\n",
    "print(f\"Acurácia: {accuracy:.2f}\")\n",
    "print(f\"Precisão: {precision:.2f}\")\n",
    "print(f\"Recall: {recall:.2f}\")\n",
    "print(f\"F1-Score: {f1:.2f}\")\n",
    "\n",
    "# Gerando a matriz de confusão\n",
    "conf_matrix = confusion_matrix(y_test, y_pred)\n",
    "print(\"\\nMatriz de Confusão:\")\n",
    "print(conf_matrix)\n",
    "\n",
    "# Relatório de classificação\n",
    "print(\"\\nRelatório de Classificação:\")\n",
    "print(classification_report(y_test, y_pred))"
   ]
  },
  {
   "cell_type": "markdown",
   "id": "4fc0a2e6dd6565f",
   "metadata": {},
   "source": [
    "## Model"
   ]
  },
  {
   "cell_type": "code",
   "execution_count": null,
   "id": "f0ed222330723d94",
   "metadata": {},
   "outputs": [],
   "source": []
  },
  {
   "cell_type": "markdown",
   "id": "d71a75cb24c573eb",
   "metadata": {},
   "source": [
    "## Train"
   ]
  },
  {
   "cell_type": "code",
   "execution_count": null,
   "id": "db18a4ac9e625d9",
   "metadata": {},
   "outputs": [],
   "source": []
  },
  {
   "cell_type": "markdown",
   "id": "802092edb6701735",
   "metadata": {},
   "source": [
    "## Predict"
   ]
  },
  {
   "cell_type": "code",
   "execution_count": null,
   "id": "fe312d4ceec150ee",
   "metadata": {},
   "outputs": [],
   "source": []
  },
  {
   "cell_type": "markdown",
   "id": "a0b8dc286870de48",
   "metadata": {},
   "source": [
    "## Metrics"
   ]
  },
  {
   "cell_type": "code",
   "execution_count": null,
   "id": "d57ec70f6848e954",
   "metadata": {},
   "outputs": [],
   "source": []
  }
 ],
 "metadata": {
  "kernelspec": {
   "display_name": ".venv",
   "language": "python",
   "name": "python3"
  },
  "language_info": {
   "codemirror_mode": {
    "name": "ipython",
    "version": 3
   },
   "file_extension": ".py",
   "mimetype": "text/x-python",
   "name": "python",
   "nbconvert_exporter": "python",
   "pygments_lexer": "ipython3",
   "version": "3.12.8"
  }
 },
 "nbformat": 4,
 "nbformat_minor": 5
}
