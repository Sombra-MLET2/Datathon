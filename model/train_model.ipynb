{
 "cells": [
  {
   "metadata": {},
   "cell_type": "markdown",
   "source": "# Model",
   "id": "de6c5a9ff9bdd3f1"
  },
  {
   "metadata": {},
   "cell_type": "markdown",
   "source": "## Libs",
   "id": "8c85146562732728"
  },
  {
   "metadata": {},
   "cell_type": "code",
   "source": [
    "import gc\n",
    "import json\n",
    "import pandas as pd\n",
    "import unicodedata\n",
    "\n",
    "import scipy.sparse\n",
    "from sklearn.model_selection import train_test_split\n",
    "from sklearn.ensemble import RandomForestClassifier\n",
    "from sklearn.preprocessing import LabelEncoder, StandardScaler\n",
    "from sklearn.metrics import classification_report\n",
    "from sklearn.feature_extraction.text import TfidfVectorizer\n",
    "from xgboost import XGBClassifier\n",
    "import joblib\n",
    "import os"
   ],
   "id": "c80fde14d103b06b",
   "outputs": [],
   "execution_count": null
  },
  {
   "metadata": {},
   "cell_type": "markdown",
   "source": "## Data",
   "id": "6bedd6d0046807f4"
  },
  {
   "metadata": {},
   "cell_type": "code",
   "source": "Data_path = '../data/json/'",
   "id": "cbb5736518cb04a5",
   "outputs": [],
   "execution_count": null
  },
  {
   "metadata": {},
   "cell_type": "code",
   "source": [
    "with open(Data_path + 'applicants.json', 'r', encoding='utf-8') as file:\n",
    "\tapplicants = json.load(file)\n",
    "\n",
    "rows = []\n",
    "for applicant in applicants:\n",
    "\tid = applicant\n",
    "\tinformacoes_pessoais = applicants.get(id).get(\"informacoes_pessoais\")\n",
    "\tinformacoes_profissionais = applicants.get(id).get(\"informacoes_profissionais\")\n",
    "\tformacao_e_idiomas = applicants.get(id).get(\"formacao_e_idiomas\")\n",
    "\taux = {\n",
    "\t\t'id': int(id),\n",
    "\t\t'pcd': informacoes_pessoais.get('pcd'),\n",
    "\t\t'titulo_profissional': informacoes_profissionais.get('titulo_profissional'),\n",
    "\t\t'area_atuacao': informacoes_profissionais.get('area_atuacao'),\n",
    "\t\t'conhecimentos_tecnicos': informacoes_profissionais.get('conhecimentos_tecnicos'),\n",
    "\t\t'certificacoes': informacoes_profissionais.get('certificacoes'),\n",
    "\t\t'outras_certificacoes': informacoes_profissionais.get('outras_certificacoes'),\n",
    "\t\t'nivel_academico': formacao_e_idiomas.get('nivel_academico'),\n",
    "\t\t'nivel_ingles': formacao_e_idiomas.get('nivel_ingles'),\n",
    "\t\t'nivel_espanhol': formacao_e_idiomas.get('nivel_espanhol'),\n",
    "\t\t'outro_idioma': formacao_e_idiomas.get('outro_idioma'),\n",
    "\t\t'cv_pt': applicants.get(id).get(\"cv_pt\"),\n",
    "\t}\n",
    "\trows.append(aux)\n",
    "\n",
    "applicants_df = pd.DataFrame(data=rows, columns=['id', 'pcd', 'endereco', 'titulo_profissional', 'area_atuacao', 'conhecimentos_tecnicos','certificacoes', 'outras_certificacoes', 'nivel_academico', 'nivel_ingles', 'nivel_espanhol', 'outro_idioma', 'cv_pt'])"
   ],
   "id": "6349653f6721779a",
   "outputs": [],
   "execution_count": null
  },
  {
   "metadata": {},
   "cell_type": "code",
   "source": [
    "with open(Data_path + 'vagas.json', 'r', encoding='utf-8') as file:\n",
    "\tvagas = json.load(file)\n",
    "\n",
    "rows = []\n",
    "for vaga in vagas:\n",
    "\tid = vaga\n",
    "\tperfil_vaga = vagas.get(id).get(\"perfil_vaga\")\n",
    "\taux = {\n",
    "\t\t'id': int(id),\n",
    "\t\t'vaga_especifica_para_pcd': perfil_vaga.get('vaga_especifica_para_pcd'),\n",
    "\t\t'nivel_profissional': perfil_vaga.get('nivel profissional'),\n",
    "\t\t'nivel_academico': perfil_vaga.get('nivel_academico'),\n",
    "\t\t'nivel_ingles': perfil_vaga.get('nivel_ingles'),\n",
    "\t\t'nivel_espanhol': perfil_vaga.get('nivel_espanhol'),\n",
    "\t\t'outro_idioma': perfil_vaga.get('outro_idioma'),\n",
    "\t\t'areas_atuacao': perfil_vaga.get('areas_atuacao'),\n",
    "\t\t'principais_atividades': perfil_vaga.get('principais_atividades'),\n",
    "\t\t'demais_observacoes': perfil_vaga.get('demais_observacoes'),\n",
    "\t\t'viagens_requeridas': perfil_vaga.get('viagens_requeridas')\n",
    "\t}\n",
    "\trows.append(aux)\n",
    "\n",
    "vagas_df = pd.DataFrame(data=rows, columns=['id', 'estado', 'vaga_especifica_para_pcd', 'nivel_profissional', 'nivel_academico', 'nivel_ingles', 'nivel_espanhol', 'outro_idioma', 'areas_atuacao', 'principais_atividades', 'demais_observacoes', 'viagens_requeridas'])"
   ],
   "id": "f93bf66fcdc1c29d",
   "outputs": [],
   "execution_count": null
  },
  {
   "metadata": {},
   "cell_type": "code",
   "source": [
    "with open(Data_path + 'prospects.json', 'r', encoding='utf-8') as file:\n",
    "\tprospects = json.load(file)\n",
    "\n",
    "rows = []\n",
    "for prospect in prospects:\n",
    "\tid = prospect\n",
    "\tcandidates = prospects.get(id).get(\"prospects\")\n",
    "\tfor candidate in candidates:\n",
    "\t\taux_id:int = int(id)\n",
    "\t\taux = {\n",
    "\t\t\t'id_vaga': aux_id,\n",
    "\t\t\t'id_applicant': int(candidate.get(\"codigo\")),\n",
    "\t\t\t'situacao_candidado': candidate.get(\"situacao_candidado\"),\n",
    "\t\t\t'comentario': candidate.get(\"comentario\")\n",
    "\t\t}\n",
    "\t\trows.append(aux)\n",
    "\n",
    "prospects_df = pd.DataFrame(data=rows, columns=['id_vaga','id_applicant', 'situacao_candidado', 'comentario'])"
   ],
   "id": "1b9f9b543226efee",
   "outputs": [],
   "execution_count": null
  },
  {
   "metadata": {},
   "cell_type": "code",
   "source": [
    "aux_merge_ap = pd.merge(applicants_df, prospects_df, left_on='id', right_on='id_applicant', how='inner')\n",
    "merge = pd.merge(aux_merge_ap, vagas_df, left_on='id_vaga', right_on='id', how='inner', suffixes=('', '_vaga'))\n",
    "\n",
    "df = merge[[\n",
    "    'pcd',\n",
    "    'titulo_profissional',\n",
    "    'area_atuacao',\n",
    "    'conhecimentos_tecnicos',\n",
    "    'certificacoes',\n",
    "    'outras_certificacoes',\n",
    "    'nivel_academico',\n",
    "    'nivel_ingles',\n",
    "    'nivel_espanhol',\n",
    "    'outro_idioma',\n",
    "    'cv_pt',\n",
    "    'situacao_candidado',\n",
    "    'comentario',\n",
    "    'vaga_especifica_para_pcd',\n",
    "    'nivel_profissional',\n",
    "    'nivel_academico_vaga',\n",
    "    'nivel_ingles_vaga',\n",
    "    'nivel_espanhol_vaga',\n",
    "    'outro_idioma_vaga',\n",
    "    'areas_atuacao',\n",
    "    'principais_atividades',\n",
    "    'demais_observacoes',\n",
    "    'viagens_requeridas'\n",
    "]]\n",
    "\n",
    "df = df.drop_duplicates()"
   ],
   "id": "907b37870e1f6a84",
   "outputs": [],
   "execution_count": null
  },
  {
   "metadata": {},
   "cell_type": "code",
   "source": [
    "del applicants\n",
    "del vagas\n",
    "del prospects\n",
    "del applicants_df\n",
    "del prospects_df\n",
    "del vagas_df\n",
    "del aux_merge_ap\n",
    "del merge\n",
    "gc.collect()"
   ],
   "id": "9628b357fcd49697",
   "outputs": [],
   "execution_count": null
  },
  {
   "metadata": {},
   "cell_type": "markdown",
   "source": "## Data Pre Processor",
   "id": "fce6e0fe255c1ee3"
  },
  {
   "metadata": {},
   "cell_type": "code",
   "source": [
    "nivel_map = {\n",
    "    'nenhum': 0,\n",
    "    'basico': 1,\n",
    "    'intermediario': 2,\n",
    "    'avancado': 3,\n",
    "    'fluente': 4\n",
    "}\n",
    "\n",
    "situacao_map = {\n",
    "    \"candidatura em andamento\": [\n",
    "        \"inscrito\",\n",
    "        \"prospect\",\n",
    "        \"em avaliacao pelo rh\",\n",
    "        \"entrevista tecnica\",\n",
    "        \"entrevista com cliente\",\n",
    "        \"encaminhado ao requisitante\",\n",
    "        \"encaminhar proposta\"\n",
    "    ],\n",
    "    \"contratacao confirmada\": [\n",
    "        \"aprovado\",\n",
    "        \"proposta aceita\",\n",
    "        \"contratado pela decision\",\n",
    "        \"contratado como hunting\"\n",
    "    ],\n",
    "    \"recusado\": [\n",
    "        \"nao aprovado pelo rh\",\n",
    "        \"nao aprovado pelo requisitante\",\n",
    "        \"nao aprovado pelo cliente\",\n",
    "        \"recusado\",\n",
    "        \"sem interesse nesta vaga\"\n",
    "    ],\n",
    "    \"desistencia\": [\n",
    "        \"desistiu\",\n",
    "        \"desistiu da contratacao\"\n",
    "    ],\n",
    "    \"outros\": [\n",
    "        \"documentacao pj\",\n",
    "        \"documentacao clt\",\n",
    "        \"documentacao cooperado\"\n",
    "    ]\n",
    "}"
   ],
   "id": "7dde91eb39ec5fd",
   "outputs": [],
   "execution_count": null
  },
  {
   "metadata": {},
   "cell_type": "code",
   "source": [
    "def string_normalizer(text):\n",
    "\tif text is None or text == \"\":\n",
    "\t\treturn None\n",
    "\telse:\n",
    "\t\treturn ''.join(c for c in unicodedata.normalize('NFD', text) if not unicodedata.combining(c)).lower()\n",
    "\n",
    "def status_map(text):\n",
    "    for grupo, status_list in situacao_map.items():\n",
    "        if text in status_list:\n",
    "            return grupo\n",
    "    return None"
   ],
   "id": "d0d3a6652648a98",
   "outputs": [],
   "execution_count": null
  },
  {
   "metadata": {},
   "cell_type": "code",
   "source": [
    "df = df.apply(lambda col: col.map(string_normalizer) if col.dtype == 'object' else col)\n",
    "df.replace('-', None, inplace=True)"
   ],
   "id": "ca77007acdfecd4a",
   "outputs": [],
   "execution_count": null
  },
  {
   "metadata": {},
   "cell_type": "code",
   "source": [
    "df['pcd'] = df['pcd'].apply(lambda x: 1 if x == 'sim' else 0)\n",
    "df['vaga_especifica_para_pcd'] = df['vaga_especifica_para_pcd'].apply(lambda x: 1 if x == 'sim' else 0)\n",
    "df['pcd_match'] = ((df['pcd'] == 1) & (df['vaga_especifica_para_pcd'] == 1)).astype(int)"
   ],
   "id": "b9803d9e5806d69c",
   "outputs": [],
   "execution_count": null
  },
  {
   "metadata": {},
   "cell_type": "code",
   "source": "df['viagens_requeridas'] = df['viagens_requeridas'].apply(lambda x: 1 if x == 'sim' else 0)",
   "id": "e6e0a43c7e33dd4a",
   "outputs": [],
   "execution_count": null
  },
  {
   "metadata": {},
   "cell_type": "code",
   "source": [
    "df['nivel_ingles'] = df['nivel_ingles'].map(nivel_map).fillna(0)\n",
    "df['nivel_ingles_vaga'] = df['nivel_ingles_vaga'].map(nivel_map).fillna(0)\n",
    "df['ingles'] = (df['nivel_ingles'] >= df['nivel_ingles_vaga']).astype(int)"
   ],
   "id": "8110ab61aea6ecb9",
   "outputs": [],
   "execution_count": null
  },
  {
   "metadata": {},
   "cell_type": "code",
   "source": [
    "df['nivel_espanhol'] = df['nivel_ingles'].map(nivel_map).fillna(0)\n",
    "df['nivel_espanhol_vaga'] = df['nivel_ingles_vaga'].map(nivel_map).fillna(0)\n",
    "df['espanhol'] = (df['nivel_espanhol'] >= df['nivel_espanhol_vaga']).astype(int)"
   ],
   "id": "fb06e679ef468502",
   "outputs": [],
   "execution_count": null
  },
  {
   "metadata": {},
   "cell_type": "code",
   "source": "df['situacao_candidado'] = df['situacao_candidado'].map(status_map)",
   "id": "68a7d18573a2484b",
   "outputs": [],
   "execution_count": null
  },
  {
   "metadata": {},
   "cell_type": "code",
   "source": "df.fillna(\"\", inplace=True)",
   "id": "8a0a775538ac034e",
   "outputs": [],
   "execution_count": null
  },
  {
   "metadata": {},
   "cell_type": "code",
   "source": [
    "candidato_cols = ['titulo_profissional', 'area_atuacao', 'conhecimentos_tecnicos', 'certificacoes', 'outras_certificacoes', 'nivel_academico', 'outro_idioma', 'cv_pt']\n",
    "\n",
    "df['candidato'] = df[candidato_cols].agg(' '.join, axis=1)"
   ],
   "id": "50b4ca8947523cd",
   "outputs": [],
   "execution_count": null
  },
  {
   "metadata": {},
   "cell_type": "code",
   "source": [
    "vaga_cols = ['nivel_profissional', 'nivel_academico_vaga', 'outro_idioma_vaga', 'areas_atuacao', 'principais_atividades', 'demais_observacoes']\n",
    "\n",
    "df['vaga'] = df[vaga_cols].agg(' '.join, axis=1)"
   ],
   "id": "44558c8b1ed62bba",
   "outputs": [],
   "execution_count": null
  },
  {
   "metadata": {},
   "cell_type": "code",
   "source": "df = df[['candidato', 'vaga', 'viagens_requeridas', 'pcd_match', 'ingles', 'espanhol', 'comentario', 'situacao_candidado']]",
   "id": "cb4cb03afff99f38",
   "outputs": [],
   "execution_count": null
  },
  {
   "metadata": {},
   "cell_type": "code",
   "source": [
    "df.rename(columns={\n",
    "    'situacao_candidado': 'situacao',\n",
    "    'comentario': 'comentario',\n",
    "    'viagens_requeridas': 'vaga_viagens_requeridas',\n",
    "    'pcd_match': 'pcd',\n",
    "    'ingles': 'nivel_ingles',\n",
    "    'espanhol': 'nivel_espanhol'\n",
    "}, inplace=True)"
   ],
   "id": "da72c9bb632e200d",
   "outputs": [],
   "execution_count": null
  },
  {
   "metadata": {},
   "cell_type": "markdown",
   "source": "## Models",
   "id": "d71a75cb24c573eb"
  },
  {
   "metadata": {},
   "cell_type": "code",
   "source": "df_model = df.copy()",
   "id": "91f7a2e5754d1ea3",
   "outputs": [],
   "execution_count": null
  },
  {
   "metadata": {},
   "cell_type": "code",
   "source": [
    "print(df_model.info())\n",
    "print(df_model.columns)"
   ],
   "id": "6fb7f749565e048e",
   "outputs": [],
   "execution_count": null
  },
  {
   "metadata": {},
   "cell_type": "code",
   "source": [
    "label_encoders = {}\n",
    "le = LabelEncoder()\n",
    "df_model['situacao'] = le.fit_transform(df_model['situacao'])\n",
    "label_encoders['situacao'] = le"
   ],
   "id": "348f338a2132cb4",
   "outputs": [],
   "execution_count": null
  },
  {
   "metadata": {},
   "cell_type": "code",
   "source": [
    "vectorizer_candidato = TfidfVectorizer(max_features=3000)\n",
    "vt_candidato = vectorizer_candidato.fit_transform(df_model['candidato'])"
   ],
   "id": "2d0e7fbfe98696",
   "outputs": [],
   "execution_count": null
  },
  {
   "metadata": {},
   "cell_type": "code",
   "source": [
    "vectorizer_vaga = TfidfVectorizer(max_features=3000)\n",
    "vt_vaga = vectorizer_candidato.fit_transform(df_model['vaga'])"
   ],
   "id": "c21d11a2040d9f54",
   "outputs": [],
   "execution_count": null
  },
  {
   "metadata": {},
   "cell_type": "code",
   "source": [
    "vectorizer_comentario = TfidfVectorizer(max_features=1000)\n",
    "vt_comentario = vectorizer_candidato.fit_transform(df_model['comentario'])"
   ],
   "id": "781c98f223f32ee1",
   "outputs": [],
   "execution_count": null
  },
  {
   "metadata": {},
   "cell_type": "code",
   "source": [
    "aux = df_model[['vaga_viagens_requeridas', 'pcd', 'nivel_ingles', 'nivel_espanhol']]\n",
    "scaler = StandardScaler()\n",
    "num_scaled = scaler.fit_transform(aux)"
   ],
   "id": "d846795698012085",
   "outputs": [],
   "execution_count": null
  },
  {
   "metadata": {},
   "cell_type": "code",
   "source": [
    "\n",
    "X = scipy.sparse.hstack([num_scaled, vt_candidato, vt_vaga, vt_comentario])\n",
    "y = df_model['situacao']\n",
    "\n",
    "X_train, X_test, y_train, y_test = train_test_split(X, y, test_size=0.25, random_state=42)"
   ],
   "id": "43997a7ac0f6460f",
   "outputs": [],
   "execution_count": null
  },
  {
   "metadata": {},
   "cell_type": "markdown",
   "source": "### Random Florest",
   "id": "2264df7b10039741"
  },
  {
   "metadata": {},
   "cell_type": "markdown",
   "source": "#### Model",
   "id": "f34aee1c8691fe3f"
  },
  {
   "metadata": {},
   "cell_type": "code",
   "source": "rf = RandomForestClassifier(n_estimators=200, random_state=42, max_depth=20, class_weight='balanced')",
   "id": "db18a4ac9e625d9",
   "outputs": [],
   "execution_count": null
  },
  {
   "metadata": {},
   "cell_type": "markdown",
   "source": "#### Train",
   "id": "802092edb6701735"
  },
  {
   "metadata": {},
   "cell_type": "code",
   "source": "rf.fit(X_train, y_train)",
   "id": "fe312d4ceec150ee",
   "outputs": [],
   "execution_count": null
  },
  {
   "metadata": {},
   "cell_type": "markdown",
   "source": "#### Predict",
   "id": "a0b8dc286870de48"
  },
  {
   "metadata": {},
   "cell_type": "code",
   "source": [
    "y_pred_rf = rf.predict(X_test)\n",
    "\n",
    "print(classification_report(y_test, y_pred_rf, zero_division=0))"
   ],
   "id": "c10e2d4cac929e40",
   "outputs": [],
   "execution_count": null
  },
  {
   "metadata": {},
   "cell_type": "markdown",
   "source": "### XGBoost",
   "id": "97cc9359d216ee50"
  },
  {
   "metadata": {},
   "cell_type": "markdown",
   "source": "#### Model",
   "id": "eec16a0a426dca6e"
  },
  {
   "metadata": {},
   "cell_type": "code",
   "source": [
    "xgb = XGBClassifier(\n",
    "    objective='multi:softmax',\n",
    "    num_class=len(y.unique()),\n",
    "    eval_metric='mlogloss',\n",
    "    random_state=42,\n",
    "    n_estimators=200,\n",
    "    max_depth=20,\n",
    "    learning_rate=0.1,\n",
    "    subsample=0.8,\n",
    "    colsample_bytree=0.8,\n",
    "\tmin_child_weight=2\n",
    ")"
   ],
   "id": "3c64fb135c319d42",
   "outputs": [],
   "execution_count": null
  },
  {
   "metadata": {},
   "cell_type": "markdown",
   "source": "#### Train",
   "id": "7e48ad5e7f48aea"
  },
  {
   "metadata": {},
   "cell_type": "code",
   "source": "xgb.fit(X_train, y_train)",
   "id": "21848ca0b2546cf9",
   "outputs": [],
   "execution_count": null
  },
  {
   "metadata": {},
   "cell_type": "markdown",
   "source": "#### Predict",
   "id": "ed079f799efd0e02"
  },
  {
   "metadata": {},
   "cell_type": "code",
   "source": [
    "y_pred_xgb = xgb.predict(X_test)\n",
    "print(classification_report(y_test, y_pred_xgb, zero_division=0))"
   ],
   "id": "bfbab8f7c2f7e3ef",
   "outputs": [],
   "execution_count": null
  },
  {
   "metadata": {},
   "cell_type": "markdown",
   "source": "## Metrics",
   "id": "96fa43b990d883d0"
  },
  {
   "metadata": {},
   "cell_type": "code",
   "source": "",
   "id": "42533aae776d45d4",
   "outputs": [],
   "execution_count": null
  },
  {
   "metadata": {},
   "cell_type": "markdown",
   "source": "## Save Model",
   "id": "9f028b7d879fe215"
  },
  {
   "metadata": {},
   "cell_type": "code",
   "source": [
    "def mkpath(path: str):\n",
    "    if not os.path.exists(path):\n",
    "        os.makedirs(path)"
   ],
   "id": "e5d8e99fedd36d5a",
   "outputs": [],
   "execution_count": null
  },
  {
   "metadata": {},
   "cell_type": "markdown",
   "source": "### Random Forest",
   "id": "4d76997b25ee034a"
  },
  {
   "metadata": {},
   "cell_type": "code",
   "source": [
    "rf_path = \"./RandomForest/\"\n",
    "\n",
    "mkpath(rf_path)\n",
    "\n",
    "joblib.dump(rf, rf_path + \"model.gz\")\n",
    "joblib.dump(label_encoders, rf_path + \"label_encoders.gz\")\n",
    "joblib.dump(vectorizer_candidato, rf_path + \"vectorizer_candidato.gz\")\n",
    "joblib.dump(vectorizer_vaga, rf_path + \"vectorizer_vaga.gz\")\n",
    "joblib.dump(vectorizer_comentario, rf_path + \"vectorizer_comentario.gz\")\n",
    "joblib.dump(scaler, rf_path + \"standard_scaler.gz\")"
   ],
   "id": "7c81f7b2fcca87cb",
   "outputs": [],
   "execution_count": null
  },
  {
   "metadata": {},
   "cell_type": "markdown",
   "source": "### XGBoost",
   "id": "6118d7baadbe9553"
  },
  {
   "metadata": {},
   "cell_type": "code",
   "source": [
    "xgb_path = \"./XGBoost/\"\n",
    "\n",
    "mkpath(xgb_path)\n",
    "\n",
    "joblib.dump(xgb, xgb_path + \"model.gz\")\n",
    "joblib.dump(label_encoders, xgb_path + \"label_encoders.gz\")\n",
    "joblib.dump(vectorizer_candidato, xgb_path + \"vectorizer_candidato.gz\")\n",
    "joblib.dump(vectorizer_vaga, xgb_path + \"vectorizer_vaga.gz\")\n",
    "joblib.dump(vectorizer_comentario, xgb_path + \"vectorizer_comentario.gz\")\n",
    "joblib.dump(scaler, xgb_path + \"standard_scaler.gz\")"
   ],
   "id": "57b17ca762913a85",
   "outputs": [],
   "execution_count": null
  }
 ],
 "metadata": {
  "kernelspec": {
   "display_name": "Python 3",
   "language": "python",
   "name": "python3"
  },
  "language_info": {
   "codemirror_mode": {
    "name": "ipython",
    "version": 2
   },
   "file_extension": ".py",
   "mimetype": "text/x-python",
   "name": "python",
   "nbconvert_exporter": "python",
   "pygments_lexer": "ipython2",
   "version": "2.7.6"
  }
 },
 "nbformat": 4,
 "nbformat_minor": 5
}
