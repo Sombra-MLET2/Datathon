{
 "cells": [
  {
   "metadata": {},
   "cell_type": "markdown",
   "source": "# Model",
   "id": "de6c5a9ff9bdd3f1"
  },
  {
   "metadata": {},
   "cell_type": "markdown",
   "source": "## Libs",
   "id": "8c85146562732728"
  },
  {
   "metadata": {},
   "cell_type": "code",
   "source": [
    "import gc\n",
    "import json\n",
    "import pandas as pd\n",
    "import unicodedata"
   ],
   "id": "c80fde14d103b06b",
   "outputs": [],
   "execution_count": null
  },
  {
   "metadata": {},
   "cell_type": "markdown",
   "source": "## Data",
   "id": "6bedd6d0046807f4"
  },
  {
   "metadata": {},
   "cell_type": "code",
   "source": "Data_path = '../data/json/'",
   "id": "cbb5736518cb04a5",
   "outputs": [],
   "execution_count": null
  },
  {
   "metadata": {},
   "cell_type": "code",
   "source": [
    "with open(Data_path + 'applicants.json', 'r', encoding='utf-8') as file:\n",
    "\tapplicants = json.load(file)\n",
    "\n",
    "rows = []\n",
    "for applicant in applicants:\n",
    "\tid = applicant\n",
    "\tinformacoes_pessoais = applicants.get(id).get(\"informacoes_pessoais\")\n",
    "\tinformacoes_profissionais = applicants.get(id).get(\"informacoes_profissionais\")\n",
    "\tformacao_e_idiomas = applicants.get(id).get(\"formacao_e_idiomas\")\n",
    "\taux = {\n",
    "\t\t'id': int(id),\n",
    "\t\t'pcd': informacoes_pessoais.get('pcd'),\n",
    "\t\t'titulo_profissional': informacoes_profissionais.get('titulo_profissional'),\n",
    "\t\t'area_atuacao': informacoes_profissionais.get('area_atuacao'),\n",
    "\t\t'conhecimentos_tecnicos': informacoes_profissionais.get('conhecimentos_tecnicos'),\n",
    "\t\t'certificacoes': informacoes_profissionais.get('certificacoes'),\n",
    "\t\t'outras_certificacoes': informacoes_profissionais.get('outras_certificacoes'),\n",
    "\t\t'nivel_profissional': informacoes_profissionais.get('nivel_profissional'),\n",
    "\t\t'nivel_academico': formacao_e_idiomas.get('nivel_academico'),\n",
    "\t\t'nivel_ingles': formacao_e_idiomas.get('nivel_ingles'),\n",
    "\t\t'nivel_espanhol': formacao_e_idiomas.get('nivel_espanhol'),\n",
    "\t\t'outro_idioma': formacao_e_idiomas.get('outro_idioma'),\n",
    "\t\t'cv_pt': applicants.get(id).get(\"cv_pt\"),\n",
    "\t}\n",
    "\trows.append(aux)\n",
    "\n",
    "applicants_df = pd.DataFrame(data=rows, columns=['id', 'pcd', 'endereco', 'titulo_profissional', 'area_atuacao', 'conhecimentos_tecnicos','certificacoes', 'outras_certificacoes', 'nivel_profissional','nivel_academico', 'nivel_ingles', 'nivel_espanhol', 'outro_idioma', 'cv_pt'])"
   ],
   "id": "6349653f6721779a",
   "outputs": [],
   "execution_count": null
  },
  {
   "metadata": {},
   "cell_type": "code",
   "source": [
    "with open(Data_path + 'vagas.json', 'r', encoding='utf-8') as file:\n",
    "\tvagas = json.load(file)\n",
    "\n",
    "rows = []\n",
    "for vaga in vagas:\n",
    "\tid = vaga\n",
    "\tperfil_vaga = vagas.get(id).get(\"perfil_vaga\")\n",
    "\taux = {\n",
    "\t\t'id': int(id),\n",
    "\t\t'vaga_especifica_para_pcd': perfil_vaga.get('vaga_especifica_para_pcd'),\n",
    "\t\t'nivel_profissional': perfil_vaga.get('nivel profissional'),\n",
    "\t\t'nivel_academico': perfil_vaga.get('nivel_academico'),\n",
    "\t\t'nivel_ingles': perfil_vaga.get('nivel_ingles'),\n",
    "\t\t'nivel_espanhol': perfil_vaga.get('nivel_espanhol'),\n",
    "\t\t'outro_idioma': perfil_vaga.get('outro_idioma'),\n",
    "\t\t'areas_atuacao': perfil_vaga.get('areas_atuacao'),\n",
    "\t\t'principais_atividades': perfil_vaga.get('principais_atividades'),\n",
    "\t\t'demais_observacoes': perfil_vaga.get('demais_observacoes'),\n",
    "\t\t'viagens_requeridas': perfil_vaga.get('viagens_requeridas')\n",
    "\t}\n",
    "\trows.append(aux)\n",
    "\n",
    "vagas_df = pd.DataFrame(data=rows, columns=['id', 'estado', 'vaga_especifica_para_pcd', 'nivel_profissional', 'nivel_academico', 'nivel_ingles', 'nivel_espanhol', 'outro_idioma', 'areas_atuacao', 'principais_atividades', 'demais_observacoes', 'viagens_requeridas'])"
   ],
   "id": "f93bf66fcdc1c29d",
   "outputs": [],
   "execution_count": null
  },
  {
   "metadata": {},
   "cell_type": "code",
   "source": [
    "with open(Data_path + 'prospects.json', 'r', encoding='utf-8') as file:\n",
    "\tprospects = json.load(file)\n",
    "\n",
    "rows = []\n",
    "for prospect in prospects:\n",
    "\tid = prospect\n",
    "\tcandidates = prospects.get(id).get(\"prospects\")\n",
    "\tfor candidate in candidates:\n",
    "\t\taux_id:int = int(id)\n",
    "\t\taux = {\n",
    "\t\t\t'id_vaga': aux_id,\n",
    "\t\t\t'id_applicant': int(candidate.get(\"codigo\")),\n",
    "\t\t\t'situacao_candidado': candidate.get(\"situacao_candidado\"),\n",
    "\t\t\t'comentario': candidate.get(\"comentario\")\n",
    "\t\t}\n",
    "\t\trows.append(aux)\n",
    "\n",
    "prospects_df = pd.DataFrame(data=rows, columns=['id_vaga','id_applicant', 'situacao_candidado', 'comentario'])"
   ],
   "id": "1b9f9b543226efee",
   "outputs": [],
   "execution_count": null
  },
  {
   "metadata": {},
   "cell_type": "code",
   "source": [
    "aux_merge_ap = pd.merge(applicants_df, prospects_df, left_on='id', right_on='id_applicant', how='inner')\n",
    "merge = pd.merge(aux_merge_ap, vagas_df, left_on='id_vaga', right_on='id', how='inner', suffixes=('', '_vaga'))\n",
    "\n",
    "df = merge[[\n",
    "    'pcd',\n",
    "    'titulo_profissional',\n",
    "    'area_atuacao',\n",
    "    'conhecimentos_tecnicos',\n",
    "    'certificacoes',\n",
    "    'outras_certificacoes',\n",
    "    'nivel_academico',\n",
    "    'nivel_profissional',\n",
    "    'nivel_ingles',\n",
    "    'nivel_espanhol',\n",
    "    'outro_idioma',\n",
    "    'cv_pt',\n",
    "    'situacao_candidado',\n",
    "    'comentario',\n",
    "    'vaga_especifica_para_pcd',\n",
    "    'nivel_profissional_vaga',\n",
    "    'nivel_academico_vaga',\n",
    "    'nivel_ingles_vaga',\n",
    "    'nivel_espanhol_vaga',\n",
    "    'outro_idioma_vaga',\n",
    "    'areas_atuacao',\n",
    "    'principais_atividades',\n",
    "    'demais_observacoes',\n",
    "    'viagens_requeridas'\n",
    "]]\n",
    "\n",
    "df = df.drop_duplicates()"
   ],
   "id": "907b37870e1f6a84",
   "outputs": [],
   "execution_count": null
  },
  {
   "metadata": {},
   "cell_type": "code",
   "source": [
    "del applicants\n",
    "del vagas\n",
    "del prospects\n",
    "del applicants_df\n",
    "del prospects_df\n",
    "del vagas_df\n",
    "del aux_merge_ap\n",
    "del merge\n",
    "gc.collect()"
   ],
   "id": "9628b357fcd49697",
   "outputs": [],
   "execution_count": null
  },
  {
   "metadata": {},
   "cell_type": "markdown",
   "source": "## Data Pre Processor",
   "id": "fce6e0fe255c1ee3"
  },
  {
   "metadata": {},
   "cell_type": "code",
   "source": [
    "def string_normalizer(text):\n",
    "\tif text is None or text == \"\":\n",
    "\t\treturn None\n",
    "\telse:\n",
    "\t\treturn ''.join(c for c in unicodedata.normalize('NFD', text) if not unicodedata.combining(c)).lower()"
   ],
   "id": "d0d3a6652648a98",
   "outputs": [],
   "execution_count": null
  },
  {
   "metadata": {},
   "cell_type": "code",
   "source": [
    "nivel_map = {\n",
    "    'nenhum': 0,\n",
    "    'basico': 1,\n",
    "    'intermediario': 2,\n",
    "    'avancado': 3,\n",
    "    'fluente': 4\n",
    "}"
   ],
   "id": "7dde91eb39ec5fd",
   "outputs": [],
   "execution_count": null
  },
  {
   "metadata": {},
   "cell_type": "code",
   "source": [
    "df = df.apply(lambda col: col.map(string_normalizer) if col.dtype == 'object' else col)\n",
    "df.replace('-', None, inplace=True)"
   ],
   "id": "ca77007acdfecd4a",
   "outputs": [],
   "execution_count": null
  },
  {
   "metadata": {},
   "cell_type": "code",
   "source": [
    "df['pcd'] = df['pcd'].apply(lambda x: 1 if x == 'sim' else 0)\n",
    "df['vaga_especifica_para_pcd'] = df['vaga_especifica_para_pcd'].apply(lambda x: 1 if x == 'sim' else 0)\n",
    "df['pcd_match'] = ((df['pcd'] == 1) & (df['vaga_especifica_para_pcd'] == 1)).astype(int)"
   ],
   "id": "b9803d9e5806d69c",
   "outputs": [],
   "execution_count": null
  },
  {
   "metadata": {},
   "cell_type": "code",
   "source": "df['viagens_requeridas'] = df['viagens_requeridas'].apply(lambda x: 1 if x == 'sim' else 0)",
   "id": "e6e0a43c7e33dd4a",
   "outputs": [],
   "execution_count": null
  },
  {
   "metadata": {},
   "cell_type": "code",
   "source": [
    "df['nivel_ingles'] = df['nivel_ingles'].map(nivel_map).fillna(0)\n",
    "df['nivel_ingles_vaga'] = df['nivel_ingles_vaga'].map(nivel_map).fillna(0)\n",
    "df['nivel_espanhol'] = df['nivel_ingles'].map(nivel_map).fillna(0)\n",
    "df['nivel_espanhol_vaga'] = df['nivel_ingles_vaga'].map(nivel_map).fillna(0)\n",
    "\n",
    "df['ingles'] = (df['nivel_ingles'] >= df['nivel_ingles_vaga']).astype(int)\n",
    "df['espanhol'] = (df['nivel_espanhol'] >= df['nivel_espanhol_vaga']).astype(int)"
   ],
   "id": "2a2a7176e786de1c",
   "outputs": [],
   "execution_count": null
  },
  {
   "metadata": {},
   "cell_type": "code",
   "source": [
    "df.drop(columns=['pcd', 'vaga_especifica_para_pcd', 'nivel_ingles', 'nivel_ingles_vaga', 'nivel_espanhol','nivel_espanhol_vaga'], inplace=True)\n",
    "\n",
    "df.rename(columns={\n",
    "    'titulo_profissional': 'candidato_titulo_profissional',\n",
    "    'area_atuacao': 'candidato_area_atuacao',\n",
    "    'conhecimentos_tecnicos': 'candidato_conhecimentos_tecnicos',\n",
    "    'certificacoes': 'candidato_certificacoes',\n",
    "    'outras_certificacoes': 'candidato_outras_certificacoes',\n",
    "    'nivel_academico': 'candidato_nivel_academico',\n",
    "    'nivel_profissional': 'candidato_nivel_profissional',\n",
    "    'outro_idioma': 'candidato_outro_idioma',\n",
    "    'cv_pt': 'candidato_cv',\n",
    "    'situacao_candidado': 'situacao',\n",
    "    'comentario': 'comentario',\n",
    "    'nivel_profissional_vaga': 'vaga_nivel_profissional',\n",
    "    'nivel_academico_vaga': 'vaga_nivel_academico',\n",
    "    'outro_idioma_vaga': 'vaga_outro_idioma',\n",
    "    'areas_atuacao': 'vaga_area_atuacao',\n",
    "    'principais_atividades': 'vaga_principais_atividades',\n",
    "    'demais_observacoes': 'vaga_demais_observacoes',\n",
    "    'viagens_requeridas': 'vaga_viagens_requeridas',\n",
    "    'pcd_match': 'pcd',\n",
    "    'ingles': 'nivel_ingles',\n",
    "    'espanhol': 'nivel_espanhol'\n",
    "}, inplace=True)"
   ],
   "id": "a42fc07ecc069bc6",
   "outputs": [],
   "execution_count": null
  },
  {
   "metadata": {},
   "cell_type": "code",
   "source": [
    "print(df.shape)\n",
    "print(df.info())"
   ],
   "id": "6946fc7aac079256",
   "outputs": [],
   "execution_count": null
  },
  {
   "metadata": {},
   "cell_type": "markdown",
   "source": "## Model",
   "id": "d71a75cb24c573eb"
  },
  {
   "metadata": {},
   "cell_type": "code",
   "source": "",
   "id": "db18a4ac9e625d9",
   "outputs": [],
   "execution_count": null
  },
  {
   "metadata": {},
   "cell_type": "markdown",
   "source": "## Train",
   "id": "802092edb6701735"
  },
  {
   "metadata": {},
   "cell_type": "code",
   "source": "",
   "id": "fe312d4ceec150ee",
   "outputs": [],
   "execution_count": null
  },
  {
   "metadata": {},
   "cell_type": "markdown",
   "source": "## Predict",
   "id": "a0b8dc286870de48"
  },
  {
   "metadata": {},
   "cell_type": "code",
   "source": "",
   "id": "d57ec70f6848e954",
   "outputs": [],
   "execution_count": null
  },
  {
   "metadata": {},
   "cell_type": "markdown",
   "source": "## Metrics",
   "id": "96fa43b990d883d0"
  },
  {
   "metadata": {},
   "cell_type": "code",
   "source": "",
   "id": "42533aae776d45d4",
   "outputs": [],
   "execution_count": null
  }
 ],
 "metadata": {
  "kernelspec": {
   "display_name": "Python 3",
   "language": "python",
   "name": "python3"
  },
  "language_info": {
   "codemirror_mode": {
    "name": "ipython",
    "version": 2
   },
   "file_extension": ".py",
   "mimetype": "text/x-python",
   "name": "python",
   "nbconvert_exporter": "python",
   "pygments_lexer": "ipython2",
   "version": "2.7.6"
  }
 },
 "nbformat": 4,
 "nbformat_minor": 5
}
